{
 "cells": [
  {
   "cell_type": "code",
   "execution_count": 1,
   "metadata": {},
   "outputs": [],
   "source": [
    "from pathlib import Path\n",
    "import pickle as pkl\n",
    "from collections import defaultdict, Counter\n",
    "from itertools import permutations, combinations\n",
    "from functools import reduce\n",
    "import numpy as np\n",
    "import os\n",
    "import re"
   ]
  },
  {
   "cell_type": "code",
   "execution_count": 2,
   "metadata": {},
   "outputs": [],
   "source": [
    "def pkl_save(data, file):\n",
    "    with open(file, \"wb\") as f:\n",
    "        pkl.dump(data, f)\n",
    "\n",
    "        \n",
    "def pkl_load(file):\n",
    "    with open(file, \"rb\") as f:\n",
    "        data = pkl.load(f)\n",
    "    return data\n",
    "\n",
    "\n",
    "def load_text(ifn):\n",
    "    with open(ifn, \"r\") as f:\n",
    "        txt = f.read()\n",
    "    return txt\n",
    "\n",
    "\n",
    "def save_text(text, ofn):\n",
    "    with open(ofn, \"w\") as f:\n",
    "        f.write(text)"
   ]
  },
  {
   "cell_type": "code",
   "execution_count": 4,
   "metadata": {},
   "outputs": [],
   "source": [
    "import sys\n",
    "# https://github.com/uf-hobi-informatics-lab/NLPreprocessing (git clone this repo to local)\n",
    "sys.path.append(\"/rds/general/user/l22/home/git_repos/NLPreprocessing\")\n",
    "sys.path.append(\"/rds/general/user/l22/home/git_repos/NLPreprocessing/text_process\")\n",
    "from annotation2BIO import pre_processing, read_annotation_brat, generate_BIO\n",
    "MIMICIII_PATTERN = \"\\[\\*\\*|\\*\\*\\]\"\n",
    "from sentence_tokenization import logger as l1\n",
    "from annotation2BIO import logger as l2\n",
    "l1.disabled = True\n",
    "l2.disabled = True"
   ]
  },
  {
   "cell_type": "code",
   "execution_count": null,
   "metadata": {},
   "outputs": [],
   "source": []
  }
 ],
 "metadata": {
  "kernelspec": {
   "display_name": "Python [conda env:litlama]",
   "language": "python",
   "name": "conda-env-litlama-py"
  },
  "language_info": {
   "codemirror_mode": {
    "name": "ipython",
    "version": 3
   },
   "file_extension": ".py",
   "mimetype": "text/x-python",
   "name": "python",
   "nbconvert_exporter": "python",
   "pygments_lexer": "ipython3",
   "version": "3.11.3"
  }
 },
 "nbformat": 4,
 "nbformat_minor": 2
}
